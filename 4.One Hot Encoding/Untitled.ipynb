{
 "cells": [
  {
   "cell_type": "code",
   "execution_count": 1,
   "id": "524f6927-0b46-4520-afa0-28bf3676b65e",
   "metadata": {},
   "outputs": [],
   "source": [
    "import pandas as pd"
   ]
  },
  {
   "cell_type": "code",
   "execution_count": 3,
   "id": "478b3d68-e817-4d50-b621-cf4c2b04e6cb",
   "metadata": {},
   "outputs": [
    {
     "data": {
      "text/plain": [
       "0      Pass\n",
       "1      Fail\n",
       "2      Pass\n",
       "3      Pass\n",
       "4    Absent\n",
       "5      Fail\n",
       "6      Fail\n",
       "7      Pass\n",
       "8      Pass\n",
       "9    Absent\n",
       "Name: result, dtype: object"
      ]
     },
     "execution_count": 3,
     "metadata": {},
     "output_type": "execute_result"
    }
   ],
   "source": [
    "data = pd.read_csv(\"student.csv\")\n",
    "data['result']"
   ]
  },
  {
   "cell_type": "code",
   "execution_count": 5,
   "id": "052a0c68-8e14-414e-8692-2124a25d7973",
   "metadata": {},
   "outputs": [],
   "source": [
    "result_category = data['result']"
   ]
  },
  {
   "cell_type": "code",
   "execution_count": 7,
   "id": "7fcbac17-a29b-40a6-bd9f-9de0b01e9c6b",
   "metadata": {},
   "outputs": [],
   "source": [
    "from sklearn.preprocessing import LabelEncoder\n",
    "obj = LabelEncoder()\n",
    "result = obj.fit_transform(result_category)"
   ]
  },
  {
   "cell_type": "code",
   "execution_count": 9,
   "id": "8a1c0c39-b6ae-468e-8cc3-de1e7ad60960",
   "metadata": {},
   "outputs": [
    {
     "data": {
      "text/plain": [
       "array([2, 1, 2, 2, 0, 1, 1, 2, 2, 0])"
      ]
     },
     "execution_count": 9,
     "metadata": {},
     "output_type": "execute_result"
    }
   ],
   "source": [
    "result  "
   ]
  },
  {
   "cell_type": "code",
   "execution_count": null,
   "id": "2293e6f4-0ee4-4d7b-86ae-260c348de42a",
   "metadata": {},
   "outputs": [],
   "source": [
    "# This Encoding values have a problem. Model think when 0 ajd 1 almost the same.\n",
    "# That mean Absent same as Fail but it can not tell surely.Then we use One Hot encoding method."
   ]
  },
  {
   "cell_type": "code",
   "execution_count": null,
   "id": "dc4597b6-d250-4265-80bb-e290c9a3cb4f",
   "metadata": {},
   "outputs": [],
   "source": [
    "# ONE HOT ENCODING METHOD"
   ]
  },
  {
   "cell_type": "code",
   "execution_count": 13,
   "id": "cb0cbfbe-f889-469b-b7d8-00709f2a5d2b",
   "metadata": {},
   "outputs": [],
   "source": [
    "from sklearn.preprocessing import LabelBinarizer\n",
    "obj = LabelBinarizer()\n",
    "result = obj.fit_transform(result_category)"
   ]
  },
  {
   "cell_type": "code",
   "execution_count": 15,
   "id": "26482119-fd49-4295-88b9-7363970f13a3",
   "metadata": {},
   "outputs": [
    {
     "data": {
      "text/plain": [
       "array([[0, 0, 1],\n",
       "       [0, 1, 0],\n",
       "       [0, 0, 1],\n",
       "       [0, 0, 1],\n",
       "       [1, 0, 0],\n",
       "       [0, 1, 0],\n",
       "       [0, 1, 0],\n",
       "       [0, 0, 1],\n",
       "       [0, 0, 1],\n",
       "       [1, 0, 0]])"
      ]
     },
     "execution_count": 15,
     "metadata": {},
     "output_type": "execute_result"
    }
   ],
   "source": [
    "result"
   ]
  },
  {
   "cell_type": "code",
   "execution_count": 19,
   "id": "d9ee57ae-1465-4687-b917-cef536fda75e",
   "metadata": {},
   "outputs": [
    {
     "data": {
      "text/plain": [
       "array(['Absent', 'Fail', 'Pass'], dtype='<U6')"
      ]
     },
     "execution_count": 19,
     "metadata": {},
     "output_type": "execute_result"
    }
   ],
   "source": [
    "obj.classes_"
   ]
  },
  {
   "cell_type": "code",
   "execution_count": 21,
   "id": "0dd2082d-e19e-457a-9e71-f1fc5b15b58b",
   "metadata": {},
   "outputs": [],
   "source": [
    "# To Calculate Accuracy"
   ]
  },
  {
   "cell_type": "code",
   "execution_count": 25,
   "id": "a955466a-468b-498e-9fcc-b92ba48993f3",
   "metadata": {},
   "outputs": [],
   "source": [
    "actual = [1,1,1,0,0,1,0,0,0,1,0,1,1,0,0]\n",
    "predicted = [0,1,1,0,0,1,1,0,1,1,0,1,1,0,1]"
   ]
  },
  {
   "cell_type": "code",
   "execution_count": 27,
   "id": "5d777601-9001-4c7f-bad1-bd6f74e0a980",
   "metadata": {},
   "outputs": [
    {
     "data": {
      "text/plain": [
       "0.7333333333333333"
      ]
     },
     "execution_count": 27,
     "metadata": {},
     "output_type": "execute_result"
    }
   ],
   "source": [
    "from sklearn.metrics import accuracy_score\n",
    "accuracy_score(actual, predicted)"
   ]
  },
  {
   "cell_type": "code",
   "execution_count": 29,
   "id": "adbd2631-1b69-4af1-be8f-8df840ef40ee",
   "metadata": {},
   "outputs": [
    {
     "data": {
      "text/plain": [
       "array([[5, 3],\n",
       "       [1, 6]], dtype=int64)"
      ]
     },
     "execution_count": 29,
     "metadata": {},
     "output_type": "execute_result"
    }
   ],
   "source": [
    "from sklearn.metrics import confusion_matrix\n",
    "confusion_matrix(actual, predicted)"
   ]
  },
  {
   "cell_type": "code",
   "execution_count": 31,
   "id": "c9b5d5fd-e695-48c0-891d-f90c6a67d000",
   "metadata": {},
   "outputs": [
    {
     "data": {
      "text/html": [
       "<div>\n",
       "<style scoped>\n",
       "    .dataframe tbody tr th:only-of-type {\n",
       "        vertical-align: middle;\n",
       "    }\n",
       "\n",
       "    .dataframe tbody tr th {\n",
       "        vertical-align: top;\n",
       "    }\n",
       "\n",
       "    .dataframe thead th {\n",
       "        text-align: right;\n",
       "    }\n",
       "</style>\n",
       "<table border=\"1\" class=\"dataframe\">\n",
       "  <thead>\n",
       "    <tr style=\"text-align: right;\">\n",
       "      <th></th>\n",
       "      <th>0</th>\n",
       "      <th>1</th>\n",
       "      <th>accuracy</th>\n",
       "      <th>macro avg</th>\n",
       "      <th>weighted avg</th>\n",
       "    </tr>\n",
       "  </thead>\n",
       "  <tbody>\n",
       "    <tr>\n",
       "      <th>precision</th>\n",
       "      <td>0.833333</td>\n",
       "      <td>0.666667</td>\n",
       "      <td>0.733333</td>\n",
       "      <td>0.750000</td>\n",
       "      <td>0.755556</td>\n",
       "    </tr>\n",
       "    <tr>\n",
       "      <th>recall</th>\n",
       "      <td>0.625000</td>\n",
       "      <td>0.857143</td>\n",
       "      <td>0.733333</td>\n",
       "      <td>0.741071</td>\n",
       "      <td>0.733333</td>\n",
       "    </tr>\n",
       "    <tr>\n",
       "      <th>f1-score</th>\n",
       "      <td>0.714286</td>\n",
       "      <td>0.750000</td>\n",
       "      <td>0.733333</td>\n",
       "      <td>0.732143</td>\n",
       "      <td>0.730952</td>\n",
       "    </tr>\n",
       "    <tr>\n",
       "      <th>support</th>\n",
       "      <td>8.000000</td>\n",
       "      <td>7.000000</td>\n",
       "      <td>0.733333</td>\n",
       "      <td>15.000000</td>\n",
       "      <td>15.000000</td>\n",
       "    </tr>\n",
       "  </tbody>\n",
       "</table>\n",
       "</div>"
      ],
      "text/plain": [
       "                  0         1  accuracy  macro avg  weighted avg\n",
       "precision  0.833333  0.666667  0.733333   0.750000      0.755556\n",
       "recall     0.625000  0.857143  0.733333   0.741071      0.733333\n",
       "f1-score   0.714286  0.750000  0.733333   0.732143      0.730952\n",
       "support    8.000000  7.000000  0.733333  15.000000     15.000000"
      ]
     },
     "execution_count": 31,
     "metadata": {},
     "output_type": "execute_result"
    }
   ],
   "source": [
    "import pandas as pd\n",
    "from sklearn.metrics import classification_report\n",
    "report = pd.DataFrame(classification_report(actual,predicted,output_dict=True))\n",
    "report"
   ]
  },
  {
   "cell_type": "code",
   "execution_count": null,
   "id": "139b634c-3ffe-48a6-b156-add3daaf82ce",
   "metadata": {},
   "outputs": [],
   "source": []
  }
 ],
 "metadata": {
  "kernelspec": {
   "display_name": "Python 3 (ipykernel)",
   "language": "python",
   "name": "python3"
  },
  "language_info": {
   "codemirror_mode": {
    "name": "ipython",
    "version": 3
   },
   "file_extension": ".py",
   "mimetype": "text/x-python",
   "name": "python",
   "nbconvert_exporter": "python",
   "pygments_lexer": "ipython3",
   "version": "3.11.7"
  }
 },
 "nbformat": 4,
 "nbformat_minor": 5
}
